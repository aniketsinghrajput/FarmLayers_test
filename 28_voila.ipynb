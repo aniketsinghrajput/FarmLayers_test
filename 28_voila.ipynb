{
 "cells": [
  {
   "cell_type": "markdown",
   "metadata": {},
   "source": [
    "<h1 style=\"color:purple;font-size:30px;\" ><center>iAvenue Farm Layers</center></h1> "
   ]
  },
  {
   "cell_type": "code",
   "execution_count": 1,
   "metadata": {},
   "outputs": [],
   "source": [
    "# Authentication of Earth engine\n",
    "import ee\n",
    "service_account = 'iavenuelabs@ialabs-earthengineapi.iam.gserviceaccount.com'\n",
    "credentials = ee.ServiceAccountCredentials(service_account, 'ialabs-earthengineapi-df98e792a65f.json')\n",
    "ee.Initialize(credentials)"
   ]
  },
  {
   "cell_type": "code",
   "execution_count": 2,
   "metadata": {},
   "outputs": [],
   "source": [
    "# Importing Libraries\n",
    "import os\n",
    "import ee\n",
    "import geemap\n",
    "import ipywidgets as widgets\n",
    "import os\n",
    "import subprocess\n",
    "import sys\n",
    "from ipywidgets import FileUpload\n",
    "from IPython.display import Image\n",
    "import requests\n",
    "import os\n",
    "from ftplib import FTP\n",
    "import numpy as np\n",
    "from PIL import Image \n",
    "from IPython.display import display, FileLink\n",
    "from ipywidgets import HTML, Layout,VBox"
   ]
  },
  {
   "cell_type": "code",
   "execution_count": 3,
   "metadata": {
    "scrolled": true
   },
   "outputs": [],
   "source": [
    "Map = geemap.Map(center=(20.5937, 78.9629), zoom=14)\n",
    "Map.add_basemap('HYBRID')\n",
    "# Map"
   ]
  },
  {
   "cell_type": "code",
   "execution_count": 4,
   "metadata": {},
   "outputs": [],
   "source": [
    "ndvi_button = widgets.Button(\n",
    "    description='Calculate NDVI',\n",
    "    button_style='primary',\n",
    "    tooltip='Click to Calculate NDVI',\n",
    "    #layout=Layout(width='50%', height='80px')\n",
    "    layout=Layout(height='auto', width='auto')\n",
    ")\n",
    "\n",
    "output = widgets.Output()\n",
    "\n",
    "hbox5 = widgets.HBox([ndvi_button])\n",
    "ndvi_button.style.button_color = 'purple'"
   ]
  },
  {
   "cell_type": "code",
   "execution_count": 23,
   "metadata": {},
   "outputs": [],
   "source": [
    "def ndvi_clicked(b):\n",
    "\n",
    "    with output:\n",
    "        output.clear_output()\n",
    "        a = Map.user_roi.getInfo()\n",
    "        aoi1=a['coordinates']\n",
    "        point = ee.Geometry.Polygon(aoi1)\n",
    "        #l8 = ee.ImageCollection('MODIS/MCD43A4_006_NDVI')\n",
    "        l8 = ee.ImageCollection('COPERNICUS/S2_SR')\n",
    "        #l8 = ee.ImageCollection('LANDSAT/LC08/C01/T1_SR')\n",
    "        image = ee.Image(\n",
    "            l8.filterBounds(point)\n",
    "            .filterDate('2021-04-05', '2021-04-10')\n",
    "            .sort('CLOUD_COVER')\n",
    "            .first()\n",
    "        )\n",
    "        # Compute NDVI.\n",
    "        NIR = image.select('B8')\n",
    "        Red = image.select('B4')\n",
    "        ndvi1999 = NIR.subtract(Red).divide(NIR.add(Red)).rename('NDVI')\n",
    "        ndvi1999=ndvi1999.clip(point)\n",
    "        #s2NDVI = ndvi1999.select('ndvi');\n",
    "        Map.addLayer(ndvi1999, {'min': -1, 'max': 1, 'palette': ['red', 'yellow', 'green']}, \"NDVI 1999\")\n",
    "        Map \n",
    "        print(\"NDVI Calculated\")\n",
    "        area = point.area()\n",
    "        #print(\"area\",area)\n",
    "        area_ha=area.getInfo()\n",
    "        area_ha=area_ha/4047\n",
    "        #print(\"ha\",area_ha)\n",
    "        #print(\"ROI Area = \", round(area.getInfo(),2),\"Square meter\")\n",
    "        print(\"ROI Area = \", round(area_ha,2),\"Acre\")\n",
    "\n",
    "        \n",
    "ndvi_button.on_click(ndvi_clicked)"
   ]
  },
  {
   "cell_type": "code",
   "execution_count": 6,
   "metadata": {
    "scrolled": true
   },
   "outputs": [],
   "source": [
    "def on_upload_change(change):\n",
    "    global file\n",
    "    if not change.new:\n",
    "        return\n",
    "    up = change.owner\n",
    "    for filename,data in up.value.items():\n",
    "        with open(filename, 'wb') as f:\n",
    "            f.write(data['content'])            \n",
    "    up.value.clear()\n",
    "    up._counter = 0\n",
    "    file = filename\n",
    "upload_btn = FileUpload(\n",
    "    #layout=widgets.Layout(width='50%', height='80px')\n",
    "    layout=Layout(height='auto', width='auto')\n",
    "\n",
    ")\n",
    "upload_btn.observe(on_upload_change, names='_counter')\n",
    "upload_btn.style.button_color = 'purple'\n"
   ]
  },
  {
   "cell_type": "code",
   "execution_count": null,
   "metadata": {},
   "outputs": [],
   "source": []
  },
  {
   "cell_type": "code",
   "execution_count": 7,
   "metadata": {},
   "outputs": [],
   "source": [
    "snip_button = widgets.Button(\n",
    "    description='Snip Area of Interest',\n",
    "    button_style='primary',\n",
    "    tooltip='Click to Snip Image',\n",
    "    #layout=Layout(width='50%', height='80px')\n",
    "    layout=Layout(height='auto', width='auto')\n",
    ")\n",
    "\n",
    "output2 = widgets.Output()\n",
    "\n",
    "hbox5 = widgets.HBox([snip_button])\n",
    "snip_button.style.button_color = 'purple'"
   ]
  },
  {
   "cell_type": "code",
   "execution_count": 8,
   "metadata": {},
   "outputs": [],
   "source": [
    "def snip_clicked(a):\n",
    "    with output2:\n",
    "        global file\n",
    "        output2.clear_output()\n",
    "        subprocess.run(\"dir\",shell=True)\n",
    "        subprocess.run([sys.executable, 'snipping_tool.py', '--source',])\n",
    "        file = 'iaLabs123.png'\n",
    "        print(\"Area of Interest Snipped\")\n",
    "        \n",
    "\n",
    "snip_button.on_click(snip_clicked)"
   ]
  },
  {
   "cell_type": "code",
   "execution_count": 9,
   "metadata": {},
   "outputs": [],
   "source": [
    "send_button = widgets.Button(\n",
    "    description='Send Image',\n",
    "    button_style='primary',\n",
    "    tooltip='Click to Send Image',\n",
    "    #layout=Layout(width='50%', height='80px')\n",
    "    layout=Layout(height='auto', width='auto')\n",
    ")\n",
    "\n",
    "\n",
    "output1 = widgets.Output()\n",
    "\n",
    "hbox5 = widgets.HBox([send_button])\n",
    "send_button.style.button_color = 'purple'"
   ]
  },
  {
   "cell_type": "code",
   "execution_count": 10,
   "metadata": {},
   "outputs": [],
   "source": [
    "def send_clicked(c):\n",
    "    with output1:\n",
    "        output1.clear_output()\n",
    "        \n",
    "        print(\"Calculating\")  \n",
    "        print(\"File name = \",file)\n",
    "        subprocess.run(\"dir\",shell=True)\n",
    "        subprocess.run([sys.executable, 'detect.py', '--source', os.path.join((file))])\n",
    "        farm_file = open(\"farm.txt\", \"r\")\n",
    "        fdata = farm_file.read()\n",
    "        print(\"Total No of Farms in the selected ROI are: \",fdata)\n",
    "        farm_file.close()\n",
    "        local_file = FileLink(\"./static/\" + file , result_html_prefix = \"Click here to download: \")\n",
    "        display(local_file) \n",
    "        output1\n",
    "        \n",
    "        \n",
    "send_button.on_click(send_clicked)"
   ]
  },
  {
   "cell_type": "code",
   "execution_count": 11,
   "metadata": {},
   "outputs": [],
   "source": [
    "header = widgets.Button(description=\"Header\",\n",
    "                    layout=widgets.Layout(width=\"auto\", height=\"auto\"), button_style=\"success\")\n",
    "footer = widgets.Button(description=\"Footer\",\n",
    "                    layout=widgets.Layout(width=\"auto\", height=\"auto\"), button_style=\"primary\")\n",
    "left = widgets.Button(description=\"Left\",\n",
    "                    layout=widgets.Layout(width=\"auto\", height=\"auto\"), button_style=\"info\")\n",
    "right = widgets.Button(description=\"Right\",\n",
    "                    layout=widgets.Layout(width=\"auto\", height=\"auto\"), button_style=\"info\")\n",
    "center = widgets.Button(description=\"Center\",\n",
    "                    layout=widgets.Layout(width=\"auto\", height=\"auto\"), button_style=\"danger\")"
   ]
  },
  {
   "cell_type": "code",
   "execution_count": 12,
   "metadata": {},
   "outputs": [],
   "source": [
    "#widgets.AppLayout(\n",
    "#          left_sidebar=Map,\n",
    "#          right_sidebar=VBox([ndvi_button,output,upload_btn,snip_button,output2,send_button,output1]),\n",
    "#            footer = VBox([output]),\n",
    "#           grid_gap=\"40px\",\n",
    "#          )"
   ]
  },
  {
   "cell_type": "code",
   "execution_count": 13,
   "metadata": {},
   "outputs": [],
   "source": [
    "from ipywidgets import AppLayout, Button, Layout"
   ]
  },
  {
   "cell_type": "code",
   "execution_count": 14,
   "metadata": {},
   "outputs": [],
   "source": [
    "def create_expanded_button(description, button_style):\n",
    "    return Button(description=description, button_style=button_style, layout=Layout(height='auto', width='auto'))"
   ]
  },
  {
   "cell_type": "code",
   "execution_count": 15,
   "metadata": {},
   "outputs": [],
   "source": [
    "header_button = create_expanded_button('Header', 'success')\n",
    "left_button = create_expanded_button('Left', 'info')\n",
    "center_button = create_expanded_button('Center', 'warning')\n",
    "right_button = create_expanded_button('Right', 'info')\n",
    "footer_button = create_expanded_button('Footer', 'success')"
   ]
  },
  {
   "cell_type": "code",
   "execution_count": 16,
   "metadata": {},
   "outputs": [],
   "source": [
    "top_left_button = create_expanded_button(\"Top left\", 'info')\n",
    "top_right_button = create_expanded_button(\"Top right\", 'success')\n",
    "bottom_left_button = create_expanded_button(\"Bottom left\", 'danger')\n",
    "bottom_right_button = create_expanded_button(\"Bottom right\", 'warning')"
   ]
  },
  {
   "cell_type": "code",
   "execution_count": 17,
   "metadata": {},
   "outputs": [],
   "source": [
    "from ipywidgets import TwoByTwoLayout\n",
    "\n"
   ]
  },
  {
   "cell_type": "code",
   "execution_count": 20,
   "metadata": {},
   "outputs": [
    {
     "data": {
      "application/vnd.jupyter.widget-view+json": {
       "model_id": "4a0585239ab64ab994d5e9bb28a01950",
       "version_major": 2,
       "version_minor": 0
      },
      "text/plain": [
       "AppLayout(children=(TwoByTwoLayout(children=(Button(button_style='primary', description='Calculate NDVI', layo…"
      ]
     },
     "metadata": {},
     "output_type": "display_data"
    },
    {
     "name": "stderr",
     "output_type": "stream",
     "text": [
      "Status code Unknown from https://geocode.arcgis.com/arcgis/rest/services/World/GeocodeServer/find: ERROR - HTTPSConnectionPool(host='geocode.arcgis.com', port=443): Read timed out. (read timeout=5.0)\n"
     ]
    }
   ],
   "source": [
    "AppLayout(header=None,\n",
    "          left_sidebar=None,\n",
    "          center=Map,\n",
    "          right_sidebar=VBox([output,output2,output1]),\n",
    "          footer=TwoByTwoLayout(top_left=ndvi_button,\n",
    "               top_right=upload_btn,\n",
    "               bottom_left=snip_button,\n",
    "               bottom_right=send_button))"
   ]
  },
  {
   "cell_type": "code",
   "execution_count": null,
   "metadata": {},
   "outputs": [],
   "source": []
  }
 ],
 "metadata": {
  "hide_input": true,
  "kernelspec": {
   "display_name": "Python 3 (ipykernel)",
   "language": "python",
   "name": "python3"
  },
  "language_info": {
   "codemirror_mode": {
    "name": "ipython",
    "version": 3
   },
   "file_extension": ".py",
   "mimetype": "text/x-python",
   "name": "python",
   "nbconvert_exporter": "python",
   "pygments_lexer": "ipython3",
   "version": "3.9.7"
  },
  "toc": {
   "base_numbering": 1,
   "nav_menu": {},
   "number_sections": true,
   "sideBar": true,
   "skip_h1_title": true,
   "title_cell": "Table of Contents",
   "title_sidebar": "Table of Contents",
   "toc_cell": false,
   "toc_position": {},
   "toc_section_display": true,
   "toc_window_display": true
  },
  "varInspector": {
   "cols": {
    "lenName": 16,
    "lenType": 16,
    "lenVar": 40
   },
   "kernels_config": {
    "python": {
     "delete_cmd_postfix": "",
     "delete_cmd_prefix": "del ",
     "library": "var_list.py",
     "varRefreshCmd": "print(var_dic_list())"
    },
    "r": {
     "delete_cmd_postfix": ") ",
     "delete_cmd_prefix": "rm(",
     "library": "var_list.r",
     "varRefreshCmd": "cat(var_dic_list()) "
    }
   },
   "types_to_exclude": [
    "module",
    "function",
    "builtin_function_or_method",
    "instance",
    "_Feature"
   ],
   "window_display": false
  }
 },
 "nbformat": 4,
 "nbformat_minor": 4
}
